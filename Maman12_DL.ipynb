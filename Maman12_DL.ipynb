{
  "cells": [
    {
      "cell_type": "markdown",
      "metadata": {
        "id": "hs1MxbKqZv0w"
      },
      "source": [
        "I'm submitting the task with a week delay, using 8-15 delay days"
      ]
    },
    {
      "cell_type": "markdown",
      "metadata": {
        "id": "ehGb6fguZx7b"
      },
      "source": [
        "Video - https://drive.google.com/file/d/1z2eFzAYxQ8023_uIlsMpTr_qrUauTIGl/view?usp=share_link\n"
      ]
    },
    {
      "cell_type": "code",
      "execution_count": 72,
      "metadata": {
        "id": "eBY838FrtxRM"
      },
      "outputs": [],
      "source": [
        "import torch\n",
        "import math\n",
        "from matplotlib import pyplot as plt\n"
      ]
    },
    {
      "cell_type": "code",
      "execution_count": 73,
      "metadata": {
        "id": "RfCw0aRCto1g"
      },
      "outputs": [],
      "source": [
        "def my_sampler(size,dist,requires_grad=False):\n",
        "  dist = torch.tensor(dist)\n",
        "  # Validate dist input - sum of all probs is 1 and all of them are posiive \n",
        "  assert (dist.sum() == 1.0 and dist.all()), f\"dist is invalid array, sum != 1 or not positive, dist: {dist}\"\n",
        "\n",
        "  # Get cumulative sum of dist, in otder to compare to sigma of all the values without calcualting it for every value \n",
        "  dist = dist.cumsum(dim=0)\n",
        "\n",
        "  U = torch.rand(size)\n",
        "\n",
        "  # Default values are I=0, will remain for U < p_0\n",
        "  result = torch.zeros(size, requires_grad = False, dtype=torch.double)\n",
        "\n",
        "  # Second option, if U >= sigma(dist from 0 to n-1) I=n\n",
        "  result = torch.where(U >= torch.sum(dist[:-1]), float(dist.numel() - 1), result)\n",
        "\n",
        "  for i in range(len(dist)-1):\n",
        "\n",
        "    # Find midle value which fills the terms \n",
        "    middle_value = torch.logical_and(dist[i - 1] <= U, U < dist[i])\n",
        "    result = torch.where(middle_value, float(i), result)\n",
        "\n",
        "\n",
        "  result.requires_grad = requires_grad\n",
        "  return result, U\n",
        "\n",
        "    "
      ]
    },
    {
      "cell_type": "code",
      "execution_count": 74,
      "metadata": {
        "id": "6cqC4QBLF0qx"
      },
      "outputs": [],
      "source": [
        "def validate_sample(result, U, dist):\n",
        "  print(\"Validating sample\")\n",
        "  print(\"U\", U)\n",
        "  print(\"result\", result) \n",
        "  dist = torch.tensor(dist)\n",
        "  dist = dist.cumsum(dim=0)\n",
        "\n",
        "  for r,u in zip(result, U):\n",
        "    r_value = int(r.item())\n",
        "    u_value = u.item()\n",
        "    print(r_value,r, u_value, u)\n",
        "    \n",
        "    if r_value == 0:\n",
        "      assert u < dist[0], f\"Wrong 0, r: {r}, u: {u}, dist[0]: {dist[0]}\"\n",
        "    elif r_value == (dist.numel() - 1):\n",
        "      assert u >= torch.sum(dist[:-1]), f\"Wrong 0, r: {r}, u: {u}, dist[0]: {dist[0]}\"\n",
        "    else:\n",
        "      assert torch.logical_and(dist[r_value - 1] <= u, u < dist[r_value]), f\"Wrong value, r: {r}, u: {u}\""
      ]
    },
    {
      "cell_type": "code",
      "execution_count": 75,
      "metadata": {
        "colab": {
          "base_uri": "https://localhost:8080/",
          "height": 312
        },
        "id": "SU-UwCL5P_86",
        "outputId": "d9643535-80a9-4490-fe41-af6adc2cd968"
      },
      "outputs": [
        {
          "ename": "AssertionError",
          "evalue": "ignored",
          "output_type": "error",
          "traceback": [
            "\u001b[0;31m---------------------------------------------------------------------------\u001b[0m",
            "\u001b[0;31mAssertionError\u001b[0m                            Traceback (most recent call last)",
            "\u001b[0;32m<ipython-input-75-ff7f00f8facc>\u001b[0m in \u001b[0;36m<cell line: 2>\u001b[0;34m()\u001b[0m\n\u001b[1;32m      1\u001b[0m \u001b[0;31m# sum(dist) > 1\u001b[0m\u001b[0;34m\u001b[0m\u001b[0;34m\u001b[0m\u001b[0m\n\u001b[0;32m----> 2\u001b[0;31m \u001b[0mresult\u001b[0m\u001b[0;34m,\u001b[0m \u001b[0mU\u001b[0m \u001b[0;34m=\u001b[0m \u001b[0mmy_sampler\u001b[0m\u001b[0;34m(\u001b[0m\u001b[0;36m10\u001b[0m\u001b[0;34m,\u001b[0m\u001b[0;34m[\u001b[0m\u001b[0;36m0.1\u001b[0m\u001b[0;34m,\u001b[0m\u001b[0;36m0.2\u001b[0m\u001b[0;34m,\u001b[0m \u001b[0;36m0.6\u001b[0m\u001b[0;34m]\u001b[0m\u001b[0;34m)\u001b[0m\u001b[0;34m\u001b[0m\u001b[0;34m\u001b[0m\u001b[0m\n\u001b[0m",
            "\u001b[0;32m<ipython-input-73-72e1b53840b4>\u001b[0m in \u001b[0;36mmy_sampler\u001b[0;34m(size, dist, requires_grad)\u001b[0m\n\u001b[1;32m      2\u001b[0m   \u001b[0mdist\u001b[0m \u001b[0;34m=\u001b[0m \u001b[0mtorch\u001b[0m\u001b[0;34m.\u001b[0m\u001b[0mtensor\u001b[0m\u001b[0;34m(\u001b[0m\u001b[0mdist\u001b[0m\u001b[0;34m)\u001b[0m\u001b[0;34m\u001b[0m\u001b[0;34m\u001b[0m\u001b[0m\n\u001b[1;32m      3\u001b[0m   \u001b[0;31m# Validate dist input - sum of all probs is 1 and all of them are posiive\u001b[0m\u001b[0;34m\u001b[0m\u001b[0;34m\u001b[0m\u001b[0m\n\u001b[0;32m----> 4\u001b[0;31m   \u001b[0;32massert\u001b[0m \u001b[0;34m(\u001b[0m\u001b[0mdist\u001b[0m\u001b[0;34m.\u001b[0m\u001b[0msum\u001b[0m\u001b[0;34m(\u001b[0m\u001b[0;34m)\u001b[0m \u001b[0;34m==\u001b[0m \u001b[0;36m1.0\u001b[0m \u001b[0;32mand\u001b[0m \u001b[0mdist\u001b[0m\u001b[0;34m.\u001b[0m\u001b[0mall\u001b[0m\u001b[0;34m(\u001b[0m\u001b[0;34m)\u001b[0m\u001b[0;34m)\u001b[0m\u001b[0;34m,\u001b[0m \u001b[0;34mf\"dist is invalid array, sum != 1 or not positive, dist: {dist}\"\u001b[0m\u001b[0;34m\u001b[0m\u001b[0;34m\u001b[0m\u001b[0m\n\u001b[0m\u001b[1;32m      5\u001b[0m \u001b[0;34m\u001b[0m\u001b[0m\n\u001b[1;32m      6\u001b[0m   \u001b[0;31m# Get cumulative sum of dist, in otder to compare to sigma of all the values without calcualting it for every value\u001b[0m\u001b[0;34m\u001b[0m\u001b[0;34m\u001b[0m\u001b[0m\n",
            "\u001b[0;31mAssertionError\u001b[0m: dist is invalid array, sum != 1 or not positive, dist: tensor([0.1000, 0.2000, 0.6000])"
          ]
        }
      ],
      "source": [
        "# sum(dist) > 1\n",
        "result, U = my_sampler(10,[0.1,0.2, 0.6])"
      ]
    },
    {
      "cell_type": "code",
      "execution_count": 77,
      "metadata": {
        "colab": {
          "base_uri": "https://localhost:8080/",
          "height": 312
        },
        "id": "lzm8EwgLH69_",
        "outputId": "17dce974-c43d-4a35-9c1d-7c9dd570b5dc"
      },
      "outputs": [
        {
          "ename": "AssertionError",
          "evalue": "ignored",
          "output_type": "error",
          "traceback": [
            "\u001b[0;31m---------------------------------------------------------------------------\u001b[0m",
            "\u001b[0;31mAssertionError\u001b[0m                            Traceback (most recent call last)",
            "\u001b[0;32m<ipython-input-77-b681bdd7e88e>\u001b[0m in \u001b[0;36m<cell line: 2>\u001b[0;34m()\u001b[0m\n\u001b[1;32m      1\u001b[0m \u001b[0;31m# 0 value in dist\u001b[0m\u001b[0;34m\u001b[0m\u001b[0;34m\u001b[0m\u001b[0m\n\u001b[0;32m----> 2\u001b[0;31m \u001b[0mresult\u001b[0m\u001b[0;34m,\u001b[0m \u001b[0mU\u001b[0m \u001b[0;34m=\u001b[0m \u001b[0mmy_sampler\u001b[0m\u001b[0;34m(\u001b[0m\u001b[0;36m10\u001b[0m\u001b[0;34m,\u001b[0m\u001b[0;34m[\u001b[0m\u001b[0;36m0.0\u001b[0m\u001b[0;34m,\u001b[0m\u001b[0;36m0.2\u001b[0m\u001b[0;34m,\u001b[0m \u001b[0;36m0.6\u001b[0m\u001b[0;34m]\u001b[0m\u001b[0;34m)\u001b[0m\u001b[0;34m\u001b[0m\u001b[0;34m\u001b[0m\u001b[0m\n\u001b[0m",
            "\u001b[0;32m<ipython-input-73-72e1b53840b4>\u001b[0m in \u001b[0;36mmy_sampler\u001b[0;34m(size, dist, requires_grad)\u001b[0m\n\u001b[1;32m      2\u001b[0m   \u001b[0mdist\u001b[0m \u001b[0;34m=\u001b[0m \u001b[0mtorch\u001b[0m\u001b[0;34m.\u001b[0m\u001b[0mtensor\u001b[0m\u001b[0;34m(\u001b[0m\u001b[0mdist\u001b[0m\u001b[0;34m)\u001b[0m\u001b[0;34m\u001b[0m\u001b[0;34m\u001b[0m\u001b[0m\n\u001b[1;32m      3\u001b[0m   \u001b[0;31m# Validate dist input - sum of all probs is 1 and all of them are posiive\u001b[0m\u001b[0;34m\u001b[0m\u001b[0;34m\u001b[0m\u001b[0m\n\u001b[0;32m----> 4\u001b[0;31m   \u001b[0;32massert\u001b[0m \u001b[0;34m(\u001b[0m\u001b[0mdist\u001b[0m\u001b[0;34m.\u001b[0m\u001b[0msum\u001b[0m\u001b[0;34m(\u001b[0m\u001b[0;34m)\u001b[0m \u001b[0;34m==\u001b[0m \u001b[0;36m1.0\u001b[0m \u001b[0;32mand\u001b[0m \u001b[0mdist\u001b[0m\u001b[0;34m.\u001b[0m\u001b[0mall\u001b[0m\u001b[0;34m(\u001b[0m\u001b[0;34m)\u001b[0m\u001b[0;34m)\u001b[0m\u001b[0;34m,\u001b[0m \u001b[0;34mf\"dist is invalid array, sum != 1 or not positive, dist: {dist}\"\u001b[0m\u001b[0;34m\u001b[0m\u001b[0;34m\u001b[0m\u001b[0m\n\u001b[0m\u001b[1;32m      5\u001b[0m \u001b[0;34m\u001b[0m\u001b[0m\n\u001b[1;32m      6\u001b[0m   \u001b[0;31m# Get cumulative sum of dist, in otder to compare to sigma of all the values without calcualting it for every value\u001b[0m\u001b[0;34m\u001b[0m\u001b[0;34m\u001b[0m\u001b[0m\n",
            "\u001b[0;31mAssertionError\u001b[0m: dist is invalid array, sum != 1 or not positive, dist: tensor([0.0000, 0.2000, 0.6000])"
          ]
        }
      ],
      "source": [
        "# 0 value in dist\n",
        "result, U = my_sampler(10,[0.0,0.2, 0.6])"
      ]
    },
    {
      "cell_type": "code",
      "execution_count": 86,
      "metadata": {
        "colab": {
          "base_uri": "https://localhost:8080/",
          "height": 680
        },
        "id": "8R_Ae3D2yElL",
        "outputId": "1eff244e-59f7-43f8-a36f-254a5988dd35"
      },
      "outputs": [
        {
          "name": "stdout",
          "output_type": "stream",
          "text": [
            "Validating sample\n",
            "U tensor([0.4410, 0.0018, 0.5693, 0.0060, 0.7483, 0.7586, 0.7616, 0.1565, 0.9480,\n",
            "        0.9601])\n",
            "result tensor([2., 0., 2., 0., 2., 2., 2., 1., 2., 2.], dtype=torch.float64)\n",
            "2 tensor(2., dtype=torch.float64) 0.44095003604888916 tensor(0.4410)\n",
            "0 tensor(0., dtype=torch.float64) 0.001841723918914795 tensor(0.0018)\n",
            "2 tensor(2., dtype=torch.float64) 0.5692919492721558 tensor(0.5693)\n",
            "0 tensor(0., dtype=torch.float64) 0.005965173244476318 tensor(0.0060)\n",
            "2 tensor(2., dtype=torch.float64) 0.7483227849006653 tensor(0.7483)\n",
            "2 tensor(2., dtype=torch.float64) 0.7586255669593811 tensor(0.7586)\n",
            "2 tensor(2., dtype=torch.float64) 0.7616266012191772 tensor(0.7616)\n",
            "1 tensor(1., dtype=torch.float64) 0.15653550624847412 tensor(0.1565)\n",
            "2 tensor(2., dtype=torch.float64) 0.9480065107345581 tensor(0.9480)\n",
            "2 tensor(2., dtype=torch.float64) 0.9601357579231262 tensor(0.9601)\n"
          ]
        },
        {
          "data": {
            "image/png": "[encoded data removed]",
            "text/plain": [
              "<Figure size 640x480 with 1 Axes>"
            ]
          },
          "metadata": {},
          "output_type": "display_data"
        }
      ],
      "source": [
        "result, U = my_sampler(10,[0.1,0.2, 0.7])\n",
        "validate_sample(result, U, [0.1,0.2, 0.7])\n",
        "\n",
        "result = result.detach().numpy()\n",
        "plt.hist(result)\n",
        "plt.show()"
      ]
    },
    {
      "cell_type": "code",
      "execution_count": 87,
      "metadata": {
        "id": "sN_7wSz76mwG"
      },
      "outputs": [],
      "source": [
        "class MyScalar:\n",
        "    def __init__(self, value, gradient = torch.tensor(0), parent = None):\n",
        "      self.value = value\n",
        "      self.gradient = gradient\n",
        "      self.parent = parent\n",
        "\n",
        "    def __repr__(self):\n",
        "        return f\"value: {self.value}, gradient: {self.gradient}, parent: {self.parent}\"\n",
        "\n",
        "    def __str__(self):\n",
        "        return f\"value: {self.value}, gradient: {self.gradient}, parent: {self.parent}\"\n",
        "\n",
        "def add(current, other):\n",
        "  # Derivative is 1\n",
        "  return MyScalar(current.value + other, torch.tensor(1), current)\n",
        "  \n",
        "def mul(current, other):\n",
        "    # Derivative is other\n",
        "    return MyScalar(current.value * other, torch.tensor(other), current)\n",
        "\n",
        "\n",
        "def pow(current, other):\n",
        "    # Derivative is other * (value ^ (other-1))\n",
        "    return MyScalar(current.value ** other, other *  (current.value ** (other -1)), current)\n",
        "\n",
        "def exp(current):\n",
        "    # Derivative is e ^ value\n",
        "    return MyScalar(torch.exp(torch.tensor(current.value)), torch.exp(torch.tensor(current.value)), current)\n",
        "\n",
        "def ln(current):\n",
        "    # Derivative is 1/value\n",
        "    return MyScalar(torch.log(torch.tensor(current.value)), 1/current.value, current)    \n",
        "\n",
        "def sin(current):\n",
        "    # Derivative is cos(value)\n",
        "    return MyScalar(torch.sin(torch.tensor(current.value)), torch.cos(torch.tensor(current.value)), current)\n",
        "\n",
        "def cos(current):\n",
        "    # Derivative is sin(value)\n",
        "    return MyScalar(torch.cos(torch.tensor(current.value)), -torch.sin(torch.tensor(current.value)), current)\n"
      ]
    },
    {
      "cell_type": "code",
      "execution_count": 88,
      "metadata": {
        "id": "j85dvGS-yi7C"
      },
      "outputs": [],
      "source": [
        "def get_gradient_recursive(MyScalar_Input, results, partial_grad):\n",
        "  results[MyScalar_Input] = partial_grad\n",
        "\n",
        "  if MyScalar_Input.parent is None:\n",
        "    return partial_grad\n",
        "  \n",
        "  return get_gradient_recursive(MyScalar_Input.parent, results, partial_grad * MyScalar_Input.gradient)\n",
        "\n",
        "def get_gradient(MyScalar_Input):\n",
        "   results = dict()\n",
        "   partial_grad = get_gradient_recursive(MyScalar_Input, results, torch.tensor(1))\n",
        "\n",
        "   return results\n"
      ]
    },
    {
      "cell_type": "code",
      "execution_count": 89,
      "metadata": {
        "colab": {
          "base_uri": "https://localhost:8080/"
        },
        "id": "AmGap7AqfqV5",
        "outputId": "198b23fe-337c-4a91-b717-5493e7d5eaf6"
      },
      "outputs": [
        {
          "name": "stdout",
          "output_type": "stream",
          "text": [
            "My gradient system:  dict_values([tensor(1), tensor(1.0405), tensor(-0.4148), tensor(-0.5063), tensor(-0.2903), tensor(-0.0811), tensor(-0.1622), tensor(-0.1622)])\n",
            "Torch gradient system:  tensor([-0.1622])\n"
          ]
        },
        {
          "name": "stderr",
          "output_type": "stream",
          "text": [
            "<ipython-input-87-cbb726029edd>:36: UserWarning: To copy construct from a tensor, it is recommended to use sourceTensor.clone().detach() or sourceTensor.clone().detach().requires_grad_(True), rather than torch.tensor(sourceTensor).\n",
            "  return MyScalar(torch.sin(torch.tensor(current.value)), torch.cos(torch.tensor(current.value)), current)\n",
            "<ipython-input-87-cbb726029edd>:32: UserWarning: To copy construct from a tensor, it is recommended to use sourceTensor.clone().detach() or sourceTensor.clone().detach().requires_grad_(True), rather than torch.tensor(sourceTensor).\n",
            "  return MyScalar(torch.log(torch.tensor(current.value)), 1/current.value, current)\n",
            "<ipython-input-87-cbb726029edd>:28: UserWarning: To copy construct from a tensor, it is recommended to use sourceTensor.clone().detach() or sourceTensor.clone().detach().requires_grad_(True), rather than torch.tensor(sourceTensor).\n",
            "  return MyScalar(torch.exp(torch.tensor(current.value)), torch.exp(torch.tensor(current.value)), current)\n"
          ]
        }
      ],
      "source": [
        "# My gradient system\n",
        "a=MyScalar(2)\n",
        "b = add(a, 1)\n",
        "c = mul(b, 2)\n",
        "d = cos(c)\n",
        "e = sin(d)\n",
        "f = ln(e)\n",
        "g=pow(f,2)\n",
        "h=exp(g)\n",
        "i=get_gradient(h)\n",
        "\n",
        "# Pytorch gradient system\n",
        "a_torch_grad = torch.tensor([2.], requires_grad=True)\n",
        "b_torch_grad  = torch.add(a_torch_grad, 1)\n",
        "c_torch_grad  = torch.mul(b_torch_grad, 2)\n",
        "d_torch_grad  = torch.cos(c_torch_grad)\n",
        "e_torch_grad  = torch.sin(d_torch_grad)\n",
        "f_torch_grad  = torch.log(e_torch_grad)\n",
        "g_torch_grad  = torch.pow(f_torch_grad, 2)\n",
        "h_torch_grad  = torch.exp(g_torch_grad)\n",
        "\n",
        "h_torch_grad.backward()\n",
        "\n",
        "print(\"My gradient system: \", i.values())\n",
        "print(\"Torch gradient system: \", a_torch_grad.grad)\n",
        "\n"
      ]
    }
  ],
  "metadata": {
    "colab": {
      "provenance": []
    },
    "kernelspec": {
      "display_name": "Python 3",
      "name": "python3"
    },
    "language_info": {
      "name": "python"
    }
  },
  "nbformat": 4,
  "nbformat_minor": 0
}

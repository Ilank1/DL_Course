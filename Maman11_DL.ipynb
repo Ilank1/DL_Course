{
  "nbformat": 4,
  "nbformat_minor": 0,
  "metadata": {
    "colab": {
      "provenance": []
    },
    "kernelspec": {
      "name": "python3",
      "display_name": "Python 3"
    },
    "language_info": {
      "name": "python"
    }
  },
  "cells": [
    {
      "cell_type": "markdown",
      "source": [
        "I'm submitting the task with a week delay, using 1-7 delay days"
      ],
      "metadata": {
        "id": "7vxAGtu0C4EZ"
      }
    },
    {
      "cell_type": "markdown",
      "source": [
        "Video - https://drive.google.com/file/d/16pZXmXpUv61Nbulge2dy2OZWhrrDtrro/view?usp=sharing"
      ],
      "metadata": {
        "id": "2XH3cSNnV0fD"
      }
    },
    {
      "cell_type": "code",
      "source": [
        "import torch\n",
        "from torch import tensor, unsqueeze, cat, broadcast_tensors\n",
        "from itertools import zip_longest\n",
        "\n",
        "# Allowed methods squeeze unsqueeze cat stack x.reshape x.reshape_as x.clone\n"
      ],
      "metadata": {
        "id": "L7YcwkHABeIO"
      },
      "execution_count": null,
      "outputs": []
    },
    {
      "cell_type": "markdown",
      "source": [
        "# Part A - implementing expand_as"
      ],
      "metadata": {
        "id": "zx9uns4ZiRLl"
      }
    },
    {
      "cell_type": "code",
      "execution_count": 165,
      "metadata": {
        "id": "W9GugxRM9DJx"
      },
      "outputs": [],
      "source": [
        "def my_expand_as(A: tensor,B: tensor):\n",
        "  \"\"\"\n",
        "    Expand tensor A to B's size\n",
        "  \"\"\"\n",
        "  print(\"len\", len(A.shape), len(B.shape))\n",
        "  if len(B.shape) < len(A.shape):\n",
        "    raise RuntimeError(f\"The number of sizes provided {len(B.shape)} must be greater or equal to the number of dimensions in the tensor {len(A.shape)}\")\n",
        "  \n",
        "  if len(A.shape) == 0 or len(B.shape) == 0:\n",
        "    raise RuntimeError(f\"One of the tensors has shape of size 0\")\n",
        "\n",
        "  # Verify dimenstions \n",
        "  print(\"A.shape\", A.shape, \"B.shape\", B.shape)\n",
        "  for A_i, B_i in zip(reversed(A.shape), reversed(B.shape)):\n",
        "    print(\"A_i: \", A_i, \"B_i: \", B_i)\n",
        "    if A_i > B_i:\n",
        "      raise RuntimeError(f\"Number of sizes at {B_i} must be greater or equal to the number of sizes in the source tensor {A_i}\")\n",
        "\n",
        "    # Can't broadcast if size is too short or the target dimension doens't match A's non-1 dimension\n",
        "    if (A_i != B_i) and A_i != 1:\n",
        "      raise RuntimeError(f\"The size of the target tenor {B_i} must be equal to {A_i} or {A_i} should be equal to 1\")\n",
        "\n",
        "  A = A.clone() \n",
        "\n",
        "  for i in range(len(B.shape) - len(A.shape)):\n",
        "    A = unsqueeze(A,0)\n",
        "  \n",
        "  for i, (A_i, B_i) in enumerate(zip(reversed(A.shape), reversed(B.shape))):\n",
        "    if A_i < B_i:\n",
        "      A = cat([A for z in  range(B_i)], dim=len(B.shape) - i - 1)\n",
        "\n",
        "  return A\n",
        "  "
      ]
    },
    {
      "cell_type": "markdown",
      "source": [
        "### Sanity testing"
      ],
      "metadata": {
        "id": "mwzWpn7ob3JX"
      }
    },
    {
      "cell_type": "code",
      "source": [
        "def test_expand_as(A: tensor,B: tensor):\n",
        "  original_expand_as_result = None\n",
        "  try:\n",
        "    original_expand_as_result = A.expand_as(B)\n",
        "  except Exception as e:\n",
        "    print(e)\n",
        "  \n",
        "  my_expand_as_result = None\n",
        "\n",
        "  try:\n",
        "    my_expand_as_result = my_expand_as(A, B)\n",
        "  except Exception as e:\n",
        "    print(e)\n",
        "\n",
        "  if original_expand_as_result == None and my_expand_as_result == None:\n",
        "    print(f\"Test passed, both results are None\")\n",
        "    return\n",
        "  \n",
        "  if (original_expand_as_result == None and my_expand_as_result != None) or (original_expand_as_result != None and my_expand_as_result == None) :\n",
        "    print(f\"Test failed, original_expand_as_result: {original_expand_as_result}, my_expand_as_result: {my_expand_as_result}\")\n",
        "    return\n",
        "  \n",
        "  if torch.equal(original_expand_as_result, my_expand_as_result):\n",
        "    print(f\"Test passed with tensors {A}, {B}\")\n",
        "  else:\n",
        "    print(f\"Test Failed with tensors {A}, {B}\")\n",
        "\n",
        "A = torch.zeros(3,3) \n",
        "B = torch.zeros(3)\n",
        "\n",
        "test_expand_as(B,A)\n",
        "test_expand_as(A,B)"
      ],
      "metadata": {
        "colab": {
          "base_uri": "https://localhost:8080/"
        },
        "id": "NSqIlpmxNl-w",
        "outputId": "2a71ce0c-02e9-46c7-ccb2-d834fe569029"
      },
      "execution_count": null,
      "outputs": [
        {
          "output_type": "stream",
          "name": "stdout",
          "text": [
            "len 1 2\n",
            "A.shape torch.Size([3]) B.shape torch.Size([3, 3])\n",
            "A_i:  3 B_i:  3\n",
            "Test passed with tensors tensor([0., 0., 0.]), tensor([[0., 0., 0.],\n",
            "        [0., 0., 0.],\n",
            "        [0., 0., 0.]])\n",
            "expand(torch.FloatTensor{[3, 3]}, size=[3]): the number of sizes provided (1) must be greater or equal to the number of dimensions in the tensor (2)\n",
            "len 2 1\n",
            "the number of sizes provided 1 must be greater or equal to the number of dimensions in the tensor 2\n",
            "Test passed, both results are None\n"
          ]
        }
      ]
    },
    {
      "cell_type": "markdown",
      "source": [
        "# Part B - validate mutual broadcastability"
      ],
      "metadata": {
        "id": "JoS6Ez4fidje"
      }
    },
    {
      "cell_type": "code",
      "source": [
        "def validate_mutual_broadcastability(A: tensor,B: tensor):\n",
        "  if len(A.shape) == 0 or len(B.shape) == 0:\n",
        "    raise RuntimeError(f\"One of the tensors has shape of size 0\")\n",
        "    return None\n",
        "  \n",
        "  # sizes of the mutualy broadcasted shape\n",
        "  result_size = []\n",
        "\n",
        "  for A_i, B_i in zip_longest(reversed(A.shape), reversed(B.shape)):\n",
        "    # If B is longer\n",
        "    if A_i is None:\n",
        "      result_size.insert(0, B_i)\n",
        "\n",
        "    # If A is longer\n",
        "    elif B_i is None:\n",
        "      result_size.insert(0, A_i)\n",
        "    elif A_i > B_i and B_i !=1 :\n",
        "      return False, None, f\"Can't mutualy broadcast, if one size isn't singleton, one size can't be greater, A_i: {A_i}, B_i: {B_i}\"\n",
        "    elif B_i > A_i and A_i !=1 :\n",
        "      return False, None,f\"Can't mutualy broadcast, if one size isn't singleton, one size can't be greater, A_i: {A_i}, B_i: {B_i}\"\n",
        "    else:\n",
        "      result_size.insert(0, max(A_i, B_i))\n",
        "  \n",
        "  return True, torch.Size(result_size),\"\"\n"
      ],
      "metadata": {
        "id": "4C-B3MKQijxY"
      },
      "execution_count": null,
      "outputs": []
    },
    {
      "cell_type": "markdown",
      "source": [
        "## Sanity check of "
      ],
      "metadata": {
        "id": "CmbRWWJPxKJg"
      }
    },
    {
      "cell_type": "code",
      "source": [
        "# Should work\n",
        "A = torch.zeros(3,2,1)\n",
        "B = torch.zeros(3,1,1,2)\n",
        "\n",
        "print(\"A\", A.shape, \"B\", B.shape)\n",
        "\n",
        "is_broadcastible, size, err = validate_mutual_broadcastability(A,B)\n",
        "\n",
        "print(is_broadcastible, size, err)\n",
        "\n",
        "# Shouldn't work\n",
        "A = torch.zeros(3,2,1)\n",
        "B = torch.zeros(3,1,3,2)\n",
        "\n",
        "print(\"A\", A.shape, \"B\", B.shape)\n",
        "\n",
        "is_broadcastible, size, err = validate_mutual_broadcastability(A,B)\n",
        "\n",
        "print(is_broadcastible, size, err)"
      ],
      "metadata": {
        "colab": {
          "base_uri": "https://localhost:8080/"
        },
        "id": "BBagtsnxUqOp",
        "outputId": "9a98bf89-ad0d-4c88-8da7-caaead195edf"
      },
      "execution_count": null,
      "outputs": [
        {
          "output_type": "stream",
          "name": "stdout",
          "text": [
            "A torch.Size([3, 2, 1]) B torch.Size([3, 1, 1, 2])\n",
            "True torch.Size([3, 3, 2, 2]) \n",
            "A torch.Size([3, 2, 1]) B torch.Size([3, 1, 3, 2])\n",
            "False None Can't mutualy broadcast, if one size isn't singleton, one size can't be great, A_i: 2, B_i: 3\n"
          ]
        }
      ]
    },
    {
      "cell_type": "markdown",
      "source": [
        "# Part C - Mutual broadcasting"
      ],
      "metadata": {
        "id": "SlFbQMmHqfdj"
      }
    },
    {
      "cell_type": "code",
      "source": [
        "def my_broadcast_tensors(A: tensor,B: tensor):\n",
        "  is_broadcastible, size, err = validate_mutual_broadcastability(A,B)\n",
        "\n",
        "  if not is_broadcastible:\n",
        "    raise RuntimeError(f\"Not mutualy broadcastible, err: {err}\")\n",
        "\n",
        "  temp_tensor = torch.zeros(size)\n",
        "\n",
        "  return my_expand_as(A, temp_tensor),my_expand_as(B, temp_tensor)"
      ],
      "metadata": {
        "id": "Ik0OgEX3c8cj"
      },
      "execution_count": null,
      "outputs": []
    },
    {
      "cell_type": "markdown",
      "source": [
        "## Sanity testing of my_broadcast_tensors"
      ],
      "metadata": {
        "id": "EXdfn-0axTMV"
      }
    },
    {
      "cell_type": "code",
      "source": [
        "def test_broadcast_tensors(A: tensor,B: tensor):\n",
        "  original_broadcast_tensors_result = (None, None)\n",
        "  try:\n",
        "    original_broadcast_tensors_result = broadcast_tensors(A, B)\n",
        "  except Exception as e:\n",
        "      print(e)\n",
        "  \n",
        "  my_broadcast_tensors_result = (None, None)\n",
        "\n",
        "  try:\n",
        "    my_broadcast_tensors_result = my_broadcast_tensors(A, B)\n",
        "  except Exception as e:\n",
        "    print(e)\n",
        "\n",
        "  if original_broadcast_tensors_result == None and my_broadcast_tensors_result == None:\n",
        "    print(f\"Test passed, both results are None\")\n",
        "    return\n",
        "  \n",
        "  if (((original_broadcast_tensors_result[0] == None and my_broadcast_tensors_result[0] != None) or\n",
        "      (original_broadcast_tensors_result[1] == None and my_broadcast_tensors_result[1] != None)) or\n",
        "     ((original_broadcast_tensors_result[0] != None and my_broadcast_tensors_result[0] == None) or\n",
        "      (original_broadcast_tensors_result[1] != None and my_broadcast_tensors_result[1] == None))):\n",
        "    print(f\"Test failed, original_expand_as_result: {original_broadcast_tensors_result}, my_expand_as_result: {my_broadcast_tensors_result}\")\n",
        "    return\n",
        "  \n",
        "  if ((original_broadcast_tensors_result[0] == None and my_broadcast_tensors_result[0] == None) and\n",
        "      (original_broadcast_tensors_result[1] == None and my_broadcast_tensors_result[1] == None)):\n",
        "    print(\"Test passed, both results are None\")\n",
        "    return\n",
        "  if torch.equal(original_broadcast_tensors_result[0], my_broadcast_tensors_result[0]) and torch.equal(original_broadcast_tensors_result[1], my_broadcast_tensors_result[1]):\n",
        "    print(f\"Test passed with tensors {A.shape}, {B.shape}\")\n",
        "  else:\n",
        "    print(f\"Test Failed with tensors {A.shape}, {B.shape}\")\n",
        "\n",
        "\n",
        "A = torch.rand(3,2,1)\n",
        "B = torch.rand(3,1,1,2)\n",
        "\n",
        "test_broadcast_tensors(A,B)"
      ],
      "metadata": {
        "colab": {
          "base_uri": "https://localhost:8080/"
        },
        "id": "mfWPLhTdDE7p",
        "outputId": "89c4d9d7-f4d1-4977-a77c-ecb39ffc8488"
      },
      "execution_count": null,
      "outputs": [
        {
          "output_type": "stream",
          "name": "stdout",
          "text": [
            "len 3 4\n",
            "A.shape torch.Size([3, 2, 1]) B.shape torch.Size([3, 3, 2, 2])\n",
            "A_i:  1 B_i:  2\n",
            "A_i:  2 B_i:  2\n",
            "A_i:  3 B_i:  3\n",
            "len 4 4\n",
            "A.shape torch.Size([3, 1, 1, 2]) B.shape torch.Size([3, 3, 2, 2])\n",
            "A_i:  2 B_i:  2\n",
            "A_i:  1 B_i:  2\n",
            "A_i:  1 B_i:  3\n",
            "A_i:  3 B_i:  3\n",
            "Test passed with tensors torch.Size([3, 2, 1]), torch.Size([3, 1, 1, 2])\n"
          ]
        }
      ]
    },
    {
      "cell_type": "markdown",
      "source": [
        "# Part D - Testing all parts"
      ],
      "metadata": {
        "id": "RuR4l71gyQf-"
      }
    },
    {
      "cell_type": "markdown",
      "source": [
        "## Test my_expand_as"
      ],
      "metadata": {
        "id": "KGwJ-qWt-VEo"
      }
    },
    {
      "cell_type": "code",
      "source": [
        "A = torch.rand(1, 2, 3, 4, 5)\n",
        "B = torch.rand(1, 1, 5)\n",
        "print(A.shape, B.shape, sep='\\n') \n",
        "\n",
        "test_expand_as(B,A)\n",
        "\n",
        "# A is of size 5 and B is of size 3, we can't expand tensor to smaller size so it should fail \n",
        "test_expand_as(A,B)\n",
        "\n",
        "A = torch.arange(18).reshape(3,6)\n",
        "B = torch.arange(6).reshape(1,6)\n",
        "print(A.shape, B.shape, sep='\\n') \n",
        "\n",
        "test_expand_as(B,A)\n",
        "\n",
        "# At the first dimension the size in A is 1, and in B is 3, so destination size is smaller than the source size so it should fail\n",
        "test_expand_as(A,B)\n",
        "\n",
        "A = torch.rand(2, 1, 5)\n",
        "B = torch.rand(1, 1, 5)\n",
        "print(A.shape, B.shape, sep='\\n') \n",
        "\n",
        "# We're trying to make the first dimenstion smaller, so that should fail\n",
        "test_expand_as(A,B)"
      ],
      "metadata": {
        "colab": {
          "base_uri": "https://localhost:8080/"
        },
        "id": "V9dXQQKLBeNK",
        "outputId": "01ab51b6-c799-4d5f-b575-33898af5e53f"
      },
      "execution_count": null,
      "outputs": [
        {
          "output_type": "stream",
          "name": "stdout",
          "text": [
            "torch.Size([1, 2, 3, 4, 5])\n",
            "torch.Size([1, 1, 5])\n",
            "len 3 5\n",
            "A.shape torch.Size([1, 1, 5]) B.shape torch.Size([1, 2, 3, 4, 5])\n",
            "A_i:  5 B_i:  5\n",
            "A_i:  1 B_i:  4\n",
            "A_i:  1 B_i:  3\n",
            "Test passed with tensors tensor([[[0.1826, 0.8777, 0.4390, 0.9826, 0.8338]]]), tensor([[[[[0.8167, 0.7188, 0.1496, 0.5927, 0.9660],\n",
            "           [0.5437, 0.2411, 0.9818, 0.3280, 0.4661],\n",
            "           [0.1807, 0.4303, 0.2685, 0.5582, 0.2657],\n",
            "           [0.8400, 0.8352, 0.4889, 0.3994, 0.9722]],\n",
            "\n",
            "          [[0.6251, 0.6912, 0.2186, 0.4248, 0.0131],\n",
            "           [0.1500, 0.8083, 0.8817, 0.5281, 0.7723],\n",
            "           [0.3662, 0.0310, 0.3030, 0.8163, 0.6196],\n",
            "           [0.2361, 0.9853, 0.3651, 0.5926, 0.9404]],\n",
            "\n",
            "          [[0.5980, 0.1837, 0.3343, 0.7355, 0.6312],\n",
            "           [0.8616, 0.6511, 0.5522, 0.1581, 0.6187],\n",
            "           [0.9083, 0.2138, 0.0144, 0.0054, 0.0998],\n",
            "           [0.7673, 0.4111, 0.6741, 0.8734, 0.8022]]],\n",
            "\n",
            "\n",
            "         [[[0.3352, 0.0864, 0.3538, 0.2165, 0.0216],\n",
            "           [0.4882, 0.7049, 0.9421, 0.6090, 0.1396],\n",
            "           [0.9913, 0.6290, 0.0067, 0.3165, 0.0873],\n",
            "           [0.9393, 0.9189, 0.7549, 0.1797, 0.7103]],\n",
            "\n",
            "          [[0.4902, 0.3078, 0.8367, 0.0061, 0.4853],\n",
            "           [0.1553, 0.4091, 0.7032, 0.6765, 0.0848],\n",
            "           [0.2396, 0.9401, 0.0800, 0.1238, 0.4499],\n",
            "           [0.8801, 0.7401, 0.9343, 0.5115, 0.6975]],\n",
            "\n",
            "          [[0.0679, 0.2911, 0.1536, 0.9199, 0.9825],\n",
            "           [0.0082, 0.6470, 0.6141, 0.4252, 0.1016],\n",
            "           [0.4692, 0.3593, 0.5805, 0.5053, 0.0890],\n",
            "           [0.2585, 0.1926, 0.6649, 0.7703, 0.7310]]]]])\n",
            "expand(torch.FloatTensor{[1, 2, 3, 4, 5]}, size=[1, 1, 5]): the number of sizes provided (3) must be greater or equal to the number of dimensions in the tensor (5)\n",
            "len 5 3\n",
            "the number of sizes provided 3 must be greater or equal to the number of dimensions in the tensor 5\n",
            "Test passed, both results are None\n",
            "torch.Size([3, 6])\n",
            "torch.Size([1, 6])\n",
            "len 2 2\n",
            "A.shape torch.Size([1, 6]) B.shape torch.Size([3, 6])\n",
            "A_i:  6 B_i:  6\n",
            "A_i:  1 B_i:  3\n",
            "Test passed with tensors tensor([[0, 1, 2, 3, 4, 5]]), tensor([[ 0,  1,  2,  3,  4,  5],\n",
            "        [ 6,  7,  8,  9, 10, 11],\n",
            "        [12, 13, 14, 15, 16, 17]])\n",
            "The expanded size of the tensor (1) must match the existing size (3) at non-singleton dimension 0.  Target sizes: [1, 6].  Tensor sizes: [3, 6]\n",
            "len 2 2\n",
            "A.shape torch.Size([3, 6]) B.shape torch.Size([1, 6])\n",
            "A_i:  6 B_i:  6\n",
            "A_i:  3 B_i:  1\n",
            "Number of sizes at 1 must be greater or equal to the number of sizes in the source tensor 3\n",
            "Test passed, both results are None\n",
            "torch.Size([2, 1, 5])\n",
            "torch.Size([1, 1, 5])\n",
            "The expanded size of the tensor (1) must match the existing size (2) at non-singleton dimension 0.  Target sizes: [1, 1, 5].  Tensor sizes: [2, 1, 5]\n",
            "len 3 3\n",
            "A.shape torch.Size([2, 1, 5]) B.shape torch.Size([1, 1, 5])\n",
            "A_i:  5 B_i:  5\n",
            "A_i:  1 B_i:  1\n",
            "A_i:  2 B_i:  1\n",
            "Number of sizes at 1 must be greater or equal to the number of sizes in the source tensor 2\n",
            "Test passed, both results are None\n"
          ]
        }
      ]
    },
    {
      "cell_type": "markdown",
      "source": [
        "## Test broadcast_tensors  "
      ],
      "metadata": {
        "id": "TpHtAClJA1LS"
      }
    },
    {
      "cell_type": "code",
      "source": [
        "A = torch.zeros(3,2,1)\n",
        "B = torch.zeros(3,1,1,2)\n",
        "\n",
        "test_broadcast_tensors(B,A)\n",
        "\n",
        "A = torch.zeros(3,2,1)\n",
        "B = torch.zeros(3,4,1,2)\n",
        "\n",
        "# At dimenstion 1, the size is non-singleton and 3 != 4 so they're not broadcastible and it shouldn't work\n",
        "test_broadcast_tensors(B,A)"
      ],
      "metadata": {
        "colab": {
          "base_uri": "https://localhost:8080/"
        },
        "id": "iR97Ci5BBiyc",
        "outputId": "1c1cd32c-93df-4e2d-b3a9-cb07af5897ed"
      },
      "execution_count": null,
      "outputs": [
        {
          "output_type": "stream",
          "name": "stdout",
          "text": [
            "len 4 4\n",
            "A.shape torch.Size([3, 1, 1, 2]) B.shape torch.Size([3, 3, 2, 2])\n",
            "A_i:  2 B_i:  2\n",
            "A_i:  1 B_i:  2\n",
            "A_i:  1 B_i:  3\n",
            "A_i:  3 B_i:  3\n",
            "len 3 4\n",
            "A.shape torch.Size([3, 2, 1]) B.shape torch.Size([3, 3, 2, 2])\n",
            "A_i:  1 B_i:  2\n",
            "A_i:  2 B_i:  2\n",
            "A_i:  3 B_i:  3\n",
            "Test passed with tensors torch.Size([3, 1, 1, 2]), torch.Size([3, 2, 1])\n",
            "The size of tensor a (4) must match the size of tensor b (3) at non-singleton dimension 1\n",
            "Not mutualy broadcastible, err: Can't mutualy broadcast, if one size isn't singleton, one size can't be great, A_i: 4, B_i: 3\n",
            "Test passed, both results are None\n"
          ]
        }
      ]
    }
  ]
}